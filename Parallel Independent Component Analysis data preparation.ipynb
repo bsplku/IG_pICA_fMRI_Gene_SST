{
 "cells": [
  {
   "cell_type": "code",
   "execution_count": null,
   "metadata": {},
   "outputs": [],
   "source": [
    "import pandas as pd\n",
    "import numpy as np\n",
    "import os\n",
    "import matplotlib.pyplot as plt\n",
    "import nibabel as nib\n",
    "import tqdm\n",
    "from tqdm import tqdm_notebook"
   ]
  },
  {
   "cell_type": "markdown",
   "metadata": {},
   "source": [
    "# fMRI data preparation"
   ]
  },
  {
   "cell_type": "code",
   "execution_count": null,
   "metadata": {},
   "outputs": [],
   "source": []
  },
  {
   "cell_type": "markdown",
   "metadata": {},
   "source": [
    "# Data Separation"
   ]
  },
  {
   "cell_type": "code",
   "execution_count": null,
   "metadata": {},
   "outputs": [],
   "source": [
    "basedir = '/users/jsh/data/IG/ICA/2023-04-25/input' # Input path\n",
    "targetdir = '/users/jsh/data/IG/ICA/2023-04-25' # Save path"
   ]
  },
  {
   "cell_type": "code",
   "execution_count": null,
   "metadata": {},
   "outputs": [],
   "source": [
    "sbj_list = pd.read_csv('/users/jsh/data/IG/ICA/2023-04-25/result/first_para_ica_sel_data.txt', header = None)\n",
    "sbj_list.columns = ['temp']\n",
    "sbj_list = sbj_list.loc[0:len(sbj_list)/2]\n",
    "sbj_list['sbj'] = sbj_list.temp.str.split('/').str[9]\n",
    "sbj_list['case'] = sbj_list.temp.str.split('/').str[8]\n",
    "sbj_list = sbj_list.dropna(axis = 0)\n",
    "sbj_info = sbj_list[['sbj', 'case']]\n",
    "\n",
    "temp = []\n",
    "\n",
    "for i in sbj_info['sbj']:\n",
    "    temp.append(i[:4] + '_' + i[4:])\n",
    "    \n",
    "sbj_info['subjectkey'] = temp\n",
    "\n",
    "\n",
    "data = pd.read_csv('/users/jsh/data/IG/Demographic+Behavior/abcd_sst02.txt', sep = '\\t')\n",
    "\n",
    "data = data.drop(['collection_id', 'abcd_sst02_id', 'dataset_id', 'src_subject_id', 'interview_date', 'collection_title'], axis = 1)\n",
    "data = data.loc[data['eventname'] == 'baseline_year_1_arm_1']\n",
    "data = data.drop(['eventname'], axis = 1)\n",
    "\n",
    "data_merged = pd.merge(sbj_info, data, how = 'inner', on = 'subjectkey')\n",
    "\n",
    "scanner = pd.read_csv('/users/jsh/data/IG/Demographic+Behavior/abcd_mri01.txt', sep = '\\t')\n",
    "scanner = scanner.loc[scanner['subjectkey'].isin(data_merged['subjectkey'].tolist())]\n",
    "scanner = scanner[['subjectkey', 'mri_info_manufacturer']]\n",
    "\n",
    "data_final = pd.merge(data_merged, scanner, on = 'subjectkey')"
   ]
  },
  {
   "cell_type": "code",
   "execution_count": null,
   "metadata": {},
   "outputs": [],
   "source": [
    "HC = data_final.loc[data_final['case'] == 'control']\n",
    "ADHD = data_final.loc[data_final['case'] == 'ADHD']\n",
    "\n",
    "HC_train, HC_test = train_test_split(HC, test_size = 0.2, random_state = 0, stratify = HC[['sex', 'mri_info_manufacturer']])\n",
    "ADHD_train, ADHD_test = train_test_split(ADHD, test_size = 0.2, random_state = 0, stratify = ADHD[['sex', 'mri_info_manufacturer']])\n",
    "\n",
    "print(HC_train.shape)\n",
    "print(HC_test.shape)\n",
    "print(ADHD_train.shape)\n",
    "print(ADHD_test.shape)"
   ]
  },
  {
   "cell_type": "code",
   "execution_count": null,
   "metadata": {},
   "outputs": [],
   "source": [
    "# Train\n",
    "\n",
    "basedir = '/users/jsh/data/IG/ICA/2023-04-25/input'\n",
    "targetdir = '/users/jsh/data/IG/ICA/2023-04-25/input_origin'\n",
    "\n",
    "for i in tqdm.tqdm_notebook(HC_train['sbj'].tolist()):\n",
    "    os.system('cp -r {}/control/{} {}/control'.format(basedir, i, targetdir))\n",
    "    \n",
    "for i in tqdm.tqdm_notebook(ADHD_train['sbj'].tolist()):\n",
    "    os.system('cp -r {}/ADHD/{} {}/ADHD'.format(basedir, i, targetdir))\n",
    "    \n",
    "\n",
    "# Test\n",
    "\n",
    "basedir = '/users/jsh/data/IG/ICA/2023-04-25/input'\n",
    "targetdir = '/users/jsh/data/IG/ICA/2023-04-25/input_valid'\n",
    "\n",
    "for i in tqdm.tqdm_notebook(HC_test['sbj'].tolist()):\n",
    "    os.system('cp -r {}/control/{} {}/control'.format(basedir, i, targetdir))\n",
    "    \n",
    "for i in tqdm.tqdm_notebook(ADHD_test['sbj'].tolist()):\n",
    "    os.system('cp -r {}/ADHD/{} {}/ADHD'.format(basedir, i, targetdir))"
   ]
  },
  {
   "cell_type": "code",
   "execution_count": null,
   "metadata": {},
   "outputs": [],
   "source": []
  }
 ],
 "metadata": {
  "kernelspec": {
   "display_name": "Python 3",
   "language": "python",
   "name": "python3"
  },
  "language_info": {
   "codemirror_mode": {
    "name": "ipython",
    "version": 3
   },
   "file_extension": ".py",
   "mimetype": "text/x-python",
   "name": "python",
   "nbconvert_exporter": "python",
   "pygments_lexer": "ipython3",
   "version": "3.7.3"
  }
 },
 "nbformat": 4,
 "nbformat_minor": 2
}
